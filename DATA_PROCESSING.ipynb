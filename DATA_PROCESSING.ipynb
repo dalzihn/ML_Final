{
  "cells": [
    {
      "cell_type": "markdown",
      "metadata": {
        "id": "7GSwP7ezf7y5"
      },
      "source": [
        "#Nhập dữ liệu"
      ]
    },
    {
      "cell_type": "code",
      "execution_count": 2,
      "metadata": {
        "colab": {
          "base_uri": "https://localhost:8080/"
        },
        "id": "jwmoArR213Vd",
        "outputId": "d1fb5a9b-f2d8-455e-b61c-78fc903db406"
      },
      "outputs": [
        {
          "output_type": "stream",
          "name": "stdout",
          "text": [
            "Requirement already satisfied: pyclustering in /usr/local/lib/python3.10/dist-packages (0.10.1.2)\n",
            "Requirement already satisfied: scipy>=1.1.0 in /usr/local/lib/python3.10/dist-packages (from pyclustering) (1.13.1)\n",
            "Requirement already satisfied: matplotlib>=3.0.0 in /usr/local/lib/python3.10/dist-packages (from pyclustering) (3.7.1)\n",
            "Requirement already satisfied: numpy>=1.15.2 in /usr/local/lib/python3.10/dist-packages (from pyclustering) (1.26.4)\n",
            "Requirement already satisfied: Pillow>=5.2.0 in /usr/local/lib/python3.10/dist-packages (from pyclustering) (10.4.0)\n",
            "Requirement already satisfied: contourpy>=1.0.1 in /usr/local/lib/python3.10/dist-packages (from matplotlib>=3.0.0->pyclustering) (1.3.0)\n",
            "Requirement already satisfied: cycler>=0.10 in /usr/local/lib/python3.10/dist-packages (from matplotlib>=3.0.0->pyclustering) (0.12.1)\n",
            "Requirement already satisfied: fonttools>=4.22.0 in /usr/local/lib/python3.10/dist-packages (from matplotlib>=3.0.0->pyclustering) (4.54.1)\n",
            "Requirement already satisfied: kiwisolver>=1.0.1 in /usr/local/lib/python3.10/dist-packages (from matplotlib>=3.0.0->pyclustering) (1.4.7)\n",
            "Requirement already satisfied: packaging>=20.0 in /usr/local/lib/python3.10/dist-packages (from matplotlib>=3.0.0->pyclustering) (24.1)\n",
            "Requirement already satisfied: pyparsing>=2.3.1 in /usr/local/lib/python3.10/dist-packages (from matplotlib>=3.0.0->pyclustering) (3.2.0)\n",
            "Requirement already satisfied: python-dateutil>=2.7 in /usr/local/lib/python3.10/dist-packages (from matplotlib>=3.0.0->pyclustering) (2.8.2)\n",
            "Requirement already satisfied: six>=1.5 in /usr/local/lib/python3.10/dist-packages (from python-dateutil>=2.7->matplotlib>=3.0.0->pyclustering) (1.16.0)\n"
          ]
        }
      ],
      "source": [
        "!pip install pyclustering\n"
      ]
    },
    {
      "cell_type": "code",
      "execution_count": 3,
      "metadata": {
        "id": "v1pXN58M1TWU"
      },
      "outputs": [],
      "source": [
        "from pyclustering.cluster.bang import bang, bang_visualizer\n",
        "from pyclustering.utils import read_sample\n",
        "from pyclustering.samples.definitions import FCPS_SAMPLES"
      ]
    },
    {
      "cell_type": "markdown",
      "metadata": {
        "id": "KouDef752tDD"
      },
      "source": [
        "Phân cụm khách hàng theo hành vi mua hàng"
      ]
    },
    {
      "cell_type": "code",
      "execution_count": 4,
      "metadata": {
        "colab": {
          "base_uri": "https://localhost:8080/"
        },
        "id": "IsOXj1U92It5",
        "outputId": "d5ea40e7-1be2-4968-b32a-f68fc5d521aa"
      },
      "outputs": [
        {
          "output_type": "stream",
          "name": "stdout",
          "text": [
            "Warning: Looks like you're using an outdated `kagglehub` version, please consider updating (latest version: 0.3.3)\n",
            "Path to dataset files: /root/.cache/kagglehub/datasets/bhanuthakurr/cleaned-contoso-dataset/versions/8\n"
          ]
        }
      ],
      "source": [
        "#Tải bộ dữ liệu từ kaggle\n",
        "import kagglehub\n",
        "\n",
        "# Download latest version\n",
        "path = kagglehub.dataset_download(\"bhanuthakurr/cleaned-contoso-dataset\")\n",
        "\n",
        "print(\"Path to dataset files:\", path)"
      ]
    },
    {
      "cell_type": "code",
      "execution_count": 4,
      "metadata": {
        "colab": {
          "base_uri": "https://localhost:8080/"
        },
        "id": "0_MkmHC92PO5",
        "outputId": "bd5a9233-4d8d-405c-f368-27899f9d4bcc"
      },
      "outputs": [
        {
          "output_type": "stream",
          "name": "stdout",
          "text": [
            "['DimMachine.csv', 'DimScenario.csv', 'DimPromotion.csv', 'FactOnlineSales.csv', 'DimProductSubcategory.csv', 'DimProduct.csv', 'DimStore.csv', 'FactITMachine.csv', 'FactInventory.csv', 'DimCustomer.csv', 'DimAccount.csv', 'FactStrategyPlan.csv', 'DimCurrency.csv', 'DimEntity.csv', 'DimDate.csv', 'DimGeography.csv', 'FactITSLA.csv', 'DimEmployee.csv', 'DimOutage.csv', 'DimChannel.csv', 'DimProductCategory.csv', 'FactSales.csv', 'FactSalesQuota.csv', 'FactExchangeRate.csv', 'DimSalesTerritory.csv']\n"
          ]
        }
      ],
      "source": [
        "import os\n",
        "\n",
        "# Hiển thị các tệp trong thư mục đã tải\n",
        "files = os.listdir(path)\n",
        "print(files)\n"
      ]
    },
    {
      "cell_type": "code",
      "execution_count": 5,
      "metadata": {
        "colab": {
          "base_uri": "https://localhost:8080/"
        },
        "id": "LaxN513C9L2i",
        "outputId": "9c797beb-db85-47f1-a200-ee9c92e6104f"
      },
      "outputs": [
        {
          "output_type": "stream",
          "name": "stdout",
          "text": [
            "   SalesKey     DateKey  channelKey  StoreKey  ProductKey  PromotionKey  \\\n",
            "0         1  2007-01-02           1       209         956            10   \n",
            "1         2  2007-02-12           4       308         766             2   \n",
            "2         3  2008-01-24           1       156        1175            11   \n",
            "3         4  2008-01-13           2       306        1429            10   \n",
            "4         5  2008-01-22           2       306        1133            10   \n",
            "\n",
            "   CurrencyKey  UnitCost  UnitPrice  SalesQuantity  ReturnQuantity  \\\n",
            "0            1     91.05      198.0              8               0   \n",
            "1            1     10.15       19.9              4               0   \n",
            "2            1    209.03      410.0              9               0   \n",
            "3            1    132.90      289.0              8               0   \n",
            "4            1    144.52      436.2             24               0   \n",
            "\n",
            "   ReturnAmount  DiscountQuantity  DiscountAmount  TotalCost  SalesAmount  \n",
            "0           0.0                 1          39.600     728.40     1544.400  \n",
            "1           0.0                 1           0.995      40.60       78.605  \n",
            "2           0.0                 3          61.500    1881.27     3628.500  \n",
            "3           0.0                 1          57.800    1063.20     2254.200  \n",
            "4           0.0                 3         261.720    3468.48    10207.080  \n"
          ]
        }
      ],
      "source": [
        "import pandas as pd\n",
        "\n",
        "# Chọn tên file cụ thể bạn muốn hiển thị\n",
        "file_name = \"FactSales.csv\"\n",
        "file_path = os.path.join(path, file_name)\n",
        "\n",
        "# Đọc và hiển thị nội dung của file CSV\n",
        "data = pd.read_csv(file_path)\n",
        "print(data.head())  # Hiển thị 5 dòng đầu tiên của bảng FactSales\n"
      ]
    },
    {
      "cell_type": "markdown",
      "source": [
        "#Tiền xử lý dữ liệu"
      ],
      "metadata": {
        "id": "klMDQ8RtyOIk"
      }
    },
    {
      "cell_type": "code",
      "execution_count": 6,
      "metadata": {
        "colab": {
          "base_uri": "https://localhost:8080/"
        },
        "id": "8X-WpgWm_HP9",
        "outputId": "114dc9b3-d3d3-4474-fd81-a89b86e7a3f5"
      },
      "outputs": [
        {
          "output_type": "stream",
          "name": "stdout",
          "text": [
            "   SalesQuantity  ReturnQuantity  ReturnAmount  DiscountQuantity  \\\n",
            "0              8               0           0.0                 1   \n",
            "1              4               0           0.0                 1   \n",
            "2              9               0           0.0                 3   \n",
            "3              8               0           0.0                 1   \n",
            "4             24               0           0.0                 3   \n",
            "\n",
            "   DiscountAmount  TotalCost  SalesAmount  \n",
            "0          39.600     728.40     1544.400  \n",
            "1           0.995      40.60       78.605  \n",
            "2          61.500    1881.27     3628.500  \n",
            "3          57.800    1063.20     2254.200  \n",
            "4         261.720    3468.48    10207.080  \n"
          ]
        }
      ],
      "source": [
        "# Chỉ giữ lại các cột cần thiết\n",
        "columns_to_keep = ['SalesQuantity', 'ReturnQuantity',\n",
        "                   'ReturnAmount', 'DiscountQuantity', 'DiscountAmount',\n",
        "                   'TotalCost', 'SalesAmount']\n",
        "\n",
        "# Lọc dữ liệu, giữ lại các cột đã chỉ định\n",
        "filtered_data = data[columns_to_keep]\n",
        "\n",
        "# Hiển thị 5 dòng đầu tiên của bảng FactSales sau khi lọc\n",
        "print(filtered_data.head())\n",
        "filtered_data = data[columns_to_keep]"
      ]
    },
    {
      "cell_type": "code",
      "source": [
        "filtered_data.head()"
      ],
      "metadata": {
        "colab": {
          "base_uri": "https://localhost:8080/",
          "height": 206
        },
        "id": "6p9VesDOy6NT",
        "outputId": "37e7a264-4d1d-4f59-89b4-61cb7177ad98"
      },
      "execution_count": 10,
      "outputs": [
        {
          "output_type": "execute_result",
          "data": {
            "text/plain": [
              "   SalesQuantity  ReturnQuantity  ReturnAmount  DiscountQuantity  \\\n",
              "0              8               0           0.0                 1   \n",
              "1              4               0           0.0                 1   \n",
              "2              9               0           0.0                 3   \n",
              "3              8               0           0.0                 1   \n",
              "4             24               0           0.0                 3   \n",
              "\n",
              "   DiscountAmount  TotalCost  SalesAmount  \n",
              "0          39.600     728.40     1544.400  \n",
              "1           0.995      40.60       78.605  \n",
              "2          61.500    1881.27     3628.500  \n",
              "3          57.800    1063.20     2254.200  \n",
              "4         261.720    3468.48    10207.080  "
            ],
            "text/html": [
              "\n",
              "  <div id=\"df-81486bf9-00a1-4280-8b53-cf507ccb22a4\" class=\"colab-df-container\">\n",
              "    <div>\n",
              "<style scoped>\n",
              "    .dataframe tbody tr th:only-of-type {\n",
              "        vertical-align: middle;\n",
              "    }\n",
              "\n",
              "    .dataframe tbody tr th {\n",
              "        vertical-align: top;\n",
              "    }\n",
              "\n",
              "    .dataframe thead th {\n",
              "        text-align: right;\n",
              "    }\n",
              "</style>\n",
              "<table border=\"1\" class=\"dataframe\">\n",
              "  <thead>\n",
              "    <tr style=\"text-align: right;\">\n",
              "      <th></th>\n",
              "      <th>SalesQuantity</th>\n",
              "      <th>ReturnQuantity</th>\n",
              "      <th>ReturnAmount</th>\n",
              "      <th>DiscountQuantity</th>\n",
              "      <th>DiscountAmount</th>\n",
              "      <th>TotalCost</th>\n",
              "      <th>SalesAmount</th>\n",
              "    </tr>\n",
              "  </thead>\n",
              "  <tbody>\n",
              "    <tr>\n",
              "      <th>0</th>\n",
              "      <td>8</td>\n",
              "      <td>0</td>\n",
              "      <td>0.0</td>\n",
              "      <td>1</td>\n",
              "      <td>39.600</td>\n",
              "      <td>728.40</td>\n",
              "      <td>1544.400</td>\n",
              "    </tr>\n",
              "    <tr>\n",
              "      <th>1</th>\n",
              "      <td>4</td>\n",
              "      <td>0</td>\n",
              "      <td>0.0</td>\n",
              "      <td>1</td>\n",
              "      <td>0.995</td>\n",
              "      <td>40.60</td>\n",
              "      <td>78.605</td>\n",
              "    </tr>\n",
              "    <tr>\n",
              "      <th>2</th>\n",
              "      <td>9</td>\n",
              "      <td>0</td>\n",
              "      <td>0.0</td>\n",
              "      <td>3</td>\n",
              "      <td>61.500</td>\n",
              "      <td>1881.27</td>\n",
              "      <td>3628.500</td>\n",
              "    </tr>\n",
              "    <tr>\n",
              "      <th>3</th>\n",
              "      <td>8</td>\n",
              "      <td>0</td>\n",
              "      <td>0.0</td>\n",
              "      <td>1</td>\n",
              "      <td>57.800</td>\n",
              "      <td>1063.20</td>\n",
              "      <td>2254.200</td>\n",
              "    </tr>\n",
              "    <tr>\n",
              "      <th>4</th>\n",
              "      <td>24</td>\n",
              "      <td>0</td>\n",
              "      <td>0.0</td>\n",
              "      <td>3</td>\n",
              "      <td>261.720</td>\n",
              "      <td>3468.48</td>\n",
              "      <td>10207.080</td>\n",
              "    </tr>\n",
              "  </tbody>\n",
              "</table>\n",
              "</div>\n",
              "    <div class=\"colab-df-buttons\">\n",
              "\n",
              "  <div class=\"colab-df-container\">\n",
              "    <button class=\"colab-df-convert\" onclick=\"convertToInteractive('df-81486bf9-00a1-4280-8b53-cf507ccb22a4')\"\n",
              "            title=\"Convert this dataframe to an interactive table.\"\n",
              "            style=\"display:none;\">\n",
              "\n",
              "  <svg xmlns=\"http://www.w3.org/2000/svg\" height=\"24px\" viewBox=\"0 -960 960 960\">\n",
              "    <path d=\"M120-120v-720h720v720H120Zm60-500h600v-160H180v160Zm220 220h160v-160H400v160Zm0 220h160v-160H400v160ZM180-400h160v-160H180v160Zm440 0h160v-160H620v160ZM180-180h160v-160H180v160Zm440 0h160v-160H620v160Z\"/>\n",
              "  </svg>\n",
              "    </button>\n",
              "\n",
              "  <style>\n",
              "    .colab-df-container {\n",
              "      display:flex;\n",
              "      gap: 12px;\n",
              "    }\n",
              "\n",
              "    .colab-df-convert {\n",
              "      background-color: #E8F0FE;\n",
              "      border: none;\n",
              "      border-radius: 50%;\n",
              "      cursor: pointer;\n",
              "      display: none;\n",
              "      fill: #1967D2;\n",
              "      height: 32px;\n",
              "      padding: 0 0 0 0;\n",
              "      width: 32px;\n",
              "    }\n",
              "\n",
              "    .colab-df-convert:hover {\n",
              "      background-color: #E2EBFA;\n",
              "      box-shadow: 0px 1px 2px rgba(60, 64, 67, 0.3), 0px 1px 3px 1px rgba(60, 64, 67, 0.15);\n",
              "      fill: #174EA6;\n",
              "    }\n",
              "\n",
              "    .colab-df-buttons div {\n",
              "      margin-bottom: 4px;\n",
              "    }\n",
              "\n",
              "    [theme=dark] .colab-df-convert {\n",
              "      background-color: #3B4455;\n",
              "      fill: #D2E3FC;\n",
              "    }\n",
              "\n",
              "    [theme=dark] .colab-df-convert:hover {\n",
              "      background-color: #434B5C;\n",
              "      box-shadow: 0px 1px 3px 1px rgba(0, 0, 0, 0.15);\n",
              "      filter: drop-shadow(0px 1px 2px rgba(0, 0, 0, 0.3));\n",
              "      fill: #FFFFFF;\n",
              "    }\n",
              "  </style>\n",
              "\n",
              "    <script>\n",
              "      const buttonEl =\n",
              "        document.querySelector('#df-81486bf9-00a1-4280-8b53-cf507ccb22a4 button.colab-df-convert');\n",
              "      buttonEl.style.display =\n",
              "        google.colab.kernel.accessAllowed ? 'block' : 'none';\n",
              "\n",
              "      async function convertToInteractive(key) {\n",
              "        const element = document.querySelector('#df-81486bf9-00a1-4280-8b53-cf507ccb22a4');\n",
              "        const dataTable =\n",
              "          await google.colab.kernel.invokeFunction('convertToInteractive',\n",
              "                                                    [key], {});\n",
              "        if (!dataTable) return;\n",
              "\n",
              "        const docLinkHtml = 'Like what you see? Visit the ' +\n",
              "          '<a target=\"_blank\" href=https://colab.research.google.com/notebooks/data_table.ipynb>data table notebook</a>'\n",
              "          + ' to learn more about interactive tables.';\n",
              "        element.innerHTML = '';\n",
              "        dataTable['output_type'] = 'display_data';\n",
              "        await google.colab.output.renderOutput(dataTable, element);\n",
              "        const docLink = document.createElement('div');\n",
              "        docLink.innerHTML = docLinkHtml;\n",
              "        element.appendChild(docLink);\n",
              "      }\n",
              "    </script>\n",
              "  </div>\n",
              "\n",
              "\n",
              "<div id=\"df-a8bf3317-679c-445d-bbdc-4a88f4fae7fb\">\n",
              "  <button class=\"colab-df-quickchart\" onclick=\"quickchart('df-a8bf3317-679c-445d-bbdc-4a88f4fae7fb')\"\n",
              "            title=\"Suggest charts\"\n",
              "            style=\"display:none;\">\n",
              "\n",
              "<svg xmlns=\"http://www.w3.org/2000/svg\" height=\"24px\"viewBox=\"0 0 24 24\"\n",
              "     width=\"24px\">\n",
              "    <g>\n",
              "        <path d=\"M19 3H5c-1.1 0-2 .9-2 2v14c0 1.1.9 2 2 2h14c1.1 0 2-.9 2-2V5c0-1.1-.9-2-2-2zM9 17H7v-7h2v7zm4 0h-2V7h2v10zm4 0h-2v-4h2v4z\"/>\n",
              "    </g>\n",
              "</svg>\n",
              "  </button>\n",
              "\n",
              "<style>\n",
              "  .colab-df-quickchart {\n",
              "      --bg-color: #E8F0FE;\n",
              "      --fill-color: #1967D2;\n",
              "      --hover-bg-color: #E2EBFA;\n",
              "      --hover-fill-color: #174EA6;\n",
              "      --disabled-fill-color: #AAA;\n",
              "      --disabled-bg-color: #DDD;\n",
              "  }\n",
              "\n",
              "  [theme=dark] .colab-df-quickchart {\n",
              "      --bg-color: #3B4455;\n",
              "      --fill-color: #D2E3FC;\n",
              "      --hover-bg-color: #434B5C;\n",
              "      --hover-fill-color: #FFFFFF;\n",
              "      --disabled-bg-color: #3B4455;\n",
              "      --disabled-fill-color: #666;\n",
              "  }\n",
              "\n",
              "  .colab-df-quickchart {\n",
              "    background-color: var(--bg-color);\n",
              "    border: none;\n",
              "    border-radius: 50%;\n",
              "    cursor: pointer;\n",
              "    display: none;\n",
              "    fill: var(--fill-color);\n",
              "    height: 32px;\n",
              "    padding: 0;\n",
              "    width: 32px;\n",
              "  }\n",
              "\n",
              "  .colab-df-quickchart:hover {\n",
              "    background-color: var(--hover-bg-color);\n",
              "    box-shadow: 0 1px 2px rgba(60, 64, 67, 0.3), 0 1px 3px 1px rgba(60, 64, 67, 0.15);\n",
              "    fill: var(--button-hover-fill-color);\n",
              "  }\n",
              "\n",
              "  .colab-df-quickchart-complete:disabled,\n",
              "  .colab-df-quickchart-complete:disabled:hover {\n",
              "    background-color: var(--disabled-bg-color);\n",
              "    fill: var(--disabled-fill-color);\n",
              "    box-shadow: none;\n",
              "  }\n",
              "\n",
              "  .colab-df-spinner {\n",
              "    border: 2px solid var(--fill-color);\n",
              "    border-color: transparent;\n",
              "    border-bottom-color: var(--fill-color);\n",
              "    animation:\n",
              "      spin 1s steps(1) infinite;\n",
              "  }\n",
              "\n",
              "  @keyframes spin {\n",
              "    0% {\n",
              "      border-color: transparent;\n",
              "      border-bottom-color: var(--fill-color);\n",
              "      border-left-color: var(--fill-color);\n",
              "    }\n",
              "    20% {\n",
              "      border-color: transparent;\n",
              "      border-left-color: var(--fill-color);\n",
              "      border-top-color: var(--fill-color);\n",
              "    }\n",
              "    30% {\n",
              "      border-color: transparent;\n",
              "      border-left-color: var(--fill-color);\n",
              "      border-top-color: var(--fill-color);\n",
              "      border-right-color: var(--fill-color);\n",
              "    }\n",
              "    40% {\n",
              "      border-color: transparent;\n",
              "      border-right-color: var(--fill-color);\n",
              "      border-top-color: var(--fill-color);\n",
              "    }\n",
              "    60% {\n",
              "      border-color: transparent;\n",
              "      border-right-color: var(--fill-color);\n",
              "    }\n",
              "    80% {\n",
              "      border-color: transparent;\n",
              "      border-right-color: var(--fill-color);\n",
              "      border-bottom-color: var(--fill-color);\n",
              "    }\n",
              "    90% {\n",
              "      border-color: transparent;\n",
              "      border-bottom-color: var(--fill-color);\n",
              "    }\n",
              "  }\n",
              "</style>\n",
              "\n",
              "  <script>\n",
              "    async function quickchart(key) {\n",
              "      const quickchartButtonEl =\n",
              "        document.querySelector('#' + key + ' button');\n",
              "      quickchartButtonEl.disabled = true;  // To prevent multiple clicks.\n",
              "      quickchartButtonEl.classList.add('colab-df-spinner');\n",
              "      try {\n",
              "        const charts = await google.colab.kernel.invokeFunction(\n",
              "            'suggestCharts', [key], {});\n",
              "      } catch (error) {\n",
              "        console.error('Error during call to suggestCharts:', error);\n",
              "      }\n",
              "      quickchartButtonEl.classList.remove('colab-df-spinner');\n",
              "      quickchartButtonEl.classList.add('colab-df-quickchart-complete');\n",
              "    }\n",
              "    (() => {\n",
              "      let quickchartButtonEl =\n",
              "        document.querySelector('#df-a8bf3317-679c-445d-bbdc-4a88f4fae7fb button');\n",
              "      quickchartButtonEl.style.display =\n",
              "        google.colab.kernel.accessAllowed ? 'block' : 'none';\n",
              "    })();\n",
              "  </script>\n",
              "</div>\n",
              "\n",
              "    </div>\n",
              "  </div>\n"
            ],
            "application/vnd.google.colaboratory.intrinsic+json": {
              "type": "dataframe",
              "variable_name": "filtered_data"
            }
          },
          "metadata": {},
          "execution_count": 10
        }
      ]
    },
    {
      "cell_type": "code",
      "source": [
        "filtered_data.info()"
      ],
      "metadata": {
        "colab": {
          "base_uri": "https://localhost:8080/"
        },
        "id": "sCXvKw4-zJbw",
        "outputId": "3c10db95-ed6f-44b4-814b-ee2715b20a63"
      },
      "execution_count": 11,
      "outputs": [
        {
          "output_type": "stream",
          "name": "stdout",
          "text": [
            "<class 'pandas.core.frame.DataFrame'>\n",
            "RangeIndex: 3406089 entries, 0 to 3406088\n",
            "Data columns (total 7 columns):\n",
            " #   Column            Dtype  \n",
            "---  ------            -----  \n",
            " 0   SalesQuantity     int64  \n",
            " 1   ReturnQuantity    int64  \n",
            " 2   ReturnAmount      float64\n",
            " 3   DiscountQuantity  int64  \n",
            " 4   DiscountAmount    float64\n",
            " 5   TotalCost         float64\n",
            " 6   SalesAmount       float64\n",
            "dtypes: float64(4), int64(3)\n",
            "memory usage: 181.9 MB\n"
          ]
        }
      ]
    },
    {
      "cell_type": "markdown",
      "source": [
        "missing values"
      ],
      "metadata": {
        "id": "CU34nA-Mzkqq"
      }
    },
    {
      "cell_type": "code",
      "source": [
        "# Đếm số dòng chứa NA (None, NaN) của mỗi cột\n",
        "missing_values = filtered_data.isnull().sum()\n",
        "if missing_values.sum() == 0:\n",
        "    print(\"Không có NaN.\")\n",
        "else:\n",
        "    print(\"Có NaN, các cột có NaN là:\")\n",
        "    print(missing_values[missing_values > 0])"
      ],
      "metadata": {
        "colab": {
          "base_uri": "https://localhost:8080/"
        },
        "id": "DZKzkyiLzX-U",
        "outputId": "6273451f-6804-4464-af37-3e8be87e4f78"
      },
      "execution_count": 12,
      "outputs": [
        {
          "output_type": "stream",
          "name": "stdout",
          "text": [
            "Không có NaN.\n"
          ]
        }
      ]
    },
    {
      "cell_type": "markdown",
      "source": [
        "Duplicated values"
      ],
      "metadata": {
        "id": "lF0s-XcI0BmB"
      }
    },
    {
      "cell_type": "code",
      "source": [
        "# Loại bỏ các hàng trùng lặp\n",
        "filtered_data.drop_duplicates(inplace=True)"
      ],
      "metadata": {
        "colab": {
          "base_uri": "https://localhost:8080/"
        },
        "id": "QSvmwhOF0CFW",
        "outputId": "02d158bd-638d-44c1-ac09-e24070112980"
      },
      "execution_count": 13,
      "outputs": [
        {
          "output_type": "stream",
          "name": "stderr",
          "text": [
            "<ipython-input-13-0689b0529068>:2: SettingWithCopyWarning: \n",
            "A value is trying to be set on a copy of a slice from a DataFrame\n",
            "\n",
            "See the caveats in the documentation: https://pandas.pydata.org/pandas-docs/stable/user_guide/indexing.html#returning-a-view-versus-a-copy\n",
            "  filtered_data.drop_duplicates(inplace=True)\n"
          ]
        }
      ]
    },
    {
      "cell_type": "code",
      "source": [
        "from scipy.stats import normaltest  # Thêm import này\n",
        "\n",
        "# Lặp qua từng cột trong filtered_data và kiểm tra phân phối chuẩn\n",
        "for column in filtered_data.columns:\n",
        "    stat, p_value = normaltest(filtered_data[column])\n",
        "    print(f'Column {column}:')\n",
        "    print(f'Statistic: {stat}, p-value: {p_value}')\n",
        "    if p_value < 0.05:\n",
        "        print('Không có phân phối chuẩn\\n')\n",
        "    else:\n",
        "        print('Có phân phối chuẩn\\n')"
      ],
      "metadata": {
        "colab": {
          "base_uri": "https://localhost:8080/"
        },
        "id": "wwbtFYJOJXdP",
        "outputId": "d89b369b-60cf-47fb-ad8c-74d65fc8fba9"
      },
      "execution_count": 15,
      "outputs": [
        {
          "output_type": "stream",
          "name": "stdout",
          "text": [
            "Column SalesQuantity:\n",
            "Statistic: 305380.83427842887, p-value: 0.0\n",
            "Không có phân phối chuẩn\n",
            "\n",
            "Column ReturnQuantity:\n",
            "Statistic: 15859.596315452078, p-value: 0.0\n",
            "Không có phân phối chuẩn\n",
            "\n",
            "Column ReturnAmount:\n",
            "Statistic: 186597.17543153607, p-value: 0.0\n",
            "Không có phân phối chuẩn\n",
            "\n",
            "Column DiscountQuantity:\n",
            "Statistic: 14900.914928193146, p-value: 0.0\n",
            "Không có phân phối chuẩn\n",
            "\n",
            "Column DiscountAmount:\n",
            "Statistic: 198541.24495678442, p-value: 0.0\n",
            "Không có phân phối chuẩn\n",
            "\n",
            "Column TotalCost:\n",
            "Statistic: 170637.76940872642, p-value: 0.0\n",
            "Không có phân phối chuẩn\n",
            "\n",
            "Column SalesAmount:\n",
            "Statistic: 186702.73798115872, p-value: 0.0\n",
            "Không có phân phối chuẩn\n",
            "\n"
          ]
        }
      ]
    },
    {
      "cell_type": "markdown",
      "source": [
        "outliner"
      ],
      "metadata": {
        "id": "Ey95mKEWLWfl"
      }
    },
    {
      "cell_type": "code",
      "source": [
        "import numpy as np\n",
        "def remove_outliers(d, filtered_data):\n",
        "    for i in d:\n",
        "        Q3, Q1 = np.percentile(filtered_data[i], [75 ,25])\n",
        "        IQR = Q3 - Q1\n",
        "\n",
        "        ul = Q3+1.5*IQR\n",
        "        ll = Q1-1.5*IQR\n",
        "\n",
        "        filtered_data = filtered_data[~((filtered_data[i] > ul) | (filtered_data[i] < ll))]\n",
        "    return filtered_data\n"
      ],
      "metadata": {
        "id": "8OszRp98LYGx"
      },
      "execution_count": 17,
      "outputs": []
    },
    {
      "cell_type": "code",
      "source": [
        "\n",
        "numerical = ['SalesQuantity', 'ReturnQuantity',\n",
        "                   'ReturnAmount', 'DiscountQuantity', 'DiscountAmount',\n",
        "                   'TotalCost', 'SalesAmount']\n",
        "filtered_data = remove_outliers(numerical, filtered_data)"
      ],
      "metadata": {
        "id": "7fb1FqFWMHMa"
      },
      "execution_count": 18,
      "outputs": []
    },
    {
      "cell_type": "code",
      "source": [
        "filtered_data.info()"
      ],
      "metadata": {
        "colab": {
          "base_uri": "https://localhost:8080/"
        },
        "id": "xzAtX8kfMoBL",
        "outputId": "e16d2f35-d5c5-40b8-a5bf-4f6396cb3263"
      },
      "execution_count": 19,
      "outputs": [
        {
          "output_type": "stream",
          "name": "stdout",
          "text": [
            "<class 'pandas.core.frame.DataFrame'>\n",
            "Index: 116403 entries, 0 to 3406069\n",
            "Data columns (total 7 columns):\n",
            " #   Column            Non-Null Count   Dtype  \n",
            "---  ------            --------------   -----  \n",
            " 0   SalesQuantity     116403 non-null  int64  \n",
            " 1   ReturnQuantity    116403 non-null  int64  \n",
            " 2   ReturnAmount      116403 non-null  float64\n",
            " 3   DiscountQuantity  116403 non-null  int64  \n",
            " 4   DiscountAmount    116403 non-null  float64\n",
            " 5   TotalCost         116403 non-null  float64\n",
            " 6   SalesAmount       116403 non-null  float64\n",
            "dtypes: float64(4), int64(3)\n",
            "memory usage: 7.1 MB\n"
          ]
        }
      ]
    },
    {
      "cell_type": "markdown",
      "source": [
        "#xây dựng mô hình phân lớp BANG (chưa có chạy ra)"
      ],
      "metadata": {
        "id": "wZZM3_ChzSQp"
      }
    },
    {
      "cell_type": "code",
      "execution_count": 20,
      "metadata": {
        "id": "L3Ix9BObDCmN"
      },
      "outputs": [],
      "source": [
        "# Chuyển đổi dữ liệu thành dạng mảng numpy để sử dụng trong BANG\n",
        "data_array = filtered_data.values"
      ]
    },
    {
      "cell_type": "code",
      "execution_count": 21,
      "metadata": {
        "id": "L_qvgV8EDKr4"
      },
      "outputs": [],
      "source": [
        "# Số lượng cấp độ (levels) của BANG (có thể điều chỉnh tùy thuộc vào độ phức tạp của dữ liệu)\n",
        "levels = 11"
      ]
    },
    {
      "cell_type": "code",
      "execution_count": 23,
      "metadata": {
        "id": "zCo0ZmzTDNzd"
      },
      "outputs": [],
      "source": [
        "# Tạo một instance của thuật toán BANG\n",
        "bang_instance = bang(data_array, levels)\n"
      ]
    },
    {
      "cell_type": "code",
      "source": [
        "# Thực hiện quá trình phân cụm\n",
        "bang_instance.process()"
      ],
      "metadata": {
        "colab": {
          "base_uri": "https://localhost:8080/"
        },
        "id": "xgO7RtmuNCc6",
        "outputId": "f8781c2d-d0a6-4b0b-e6fe-ccc4b379d8c4"
      },
      "execution_count": 24,
      "outputs": [
        {
          "output_type": "execute_result",
          "data": {
            "text/plain": [
              "<pyclustering.cluster.bang.bang at 0x7c461c84d630>"
            ]
          },
          "metadata": {},
          "execution_count": 24
        }
      ]
    },
    {
      "cell_type": "code",
      "source": [
        "# Lấy kết quả phân cụm\n",
        "clusters = bang_instance.get_clusters()\n",
        "noise = bang_instance.get_noise()\n",
        "directory = bang_instance.get_directory()\n",
        "dendrogram = bang_instance.get_dendrogram()"
      ],
      "metadata": {
        "id": "G7DdNSpBxyNP"
      },
      "execution_count": 25,
      "outputs": []
    },
    {
      "cell_type": "code",
      "source": [
        "# Visualize BANG clustering results.\n",
        "bang_visualizer.show_blocks(directory)\n",
        "bang_visualizer.show_dendrogram(dendrogram)\n",
        "bang_visualizer.show_clusters(data, clusters, noise)"
      ],
      "metadata": {
        "colab": {
          "base_uri": "https://localhost:8080/",
          "height": 198
        },
        "id": "MJftqNjjTudS",
        "outputId": "9910ebf2-691e-4a85-990b-4bbbb3c55b7e"
      },
      "execution_count": 1,
      "outputs": [
        {
          "output_type": "error",
          "ename": "NameError",
          "evalue": "name 'bang_visualizer' is not defined",
          "traceback": [
            "\u001b[0;31m---------------------------------------------------------------------------\u001b[0m",
            "\u001b[0;31mNameError\u001b[0m                                 Traceback (most recent call last)",
            "\u001b[0;32m<ipython-input-1-5f42b8811deb>\u001b[0m in \u001b[0;36m<cell line: 2>\u001b[0;34m()\u001b[0m\n\u001b[1;32m      1\u001b[0m \u001b[0;31m# Visualize BANG clustering results.\u001b[0m\u001b[0;34m\u001b[0m\u001b[0;34m\u001b[0m\u001b[0m\n\u001b[0;32m----> 2\u001b[0;31m \u001b[0mbang_visualizer\u001b[0m\u001b[0;34m.\u001b[0m\u001b[0mshow_blocks\u001b[0m\u001b[0;34m(\u001b[0m\u001b[0mdirectory\u001b[0m\u001b[0;34m)\u001b[0m\u001b[0;34m\u001b[0m\u001b[0;34m\u001b[0m\u001b[0m\n\u001b[0m\u001b[1;32m      3\u001b[0m \u001b[0mbang_visualizer\u001b[0m\u001b[0;34m.\u001b[0m\u001b[0mshow_dendrogram\u001b[0m\u001b[0;34m(\u001b[0m\u001b[0mdendrogram\u001b[0m\u001b[0;34m)\u001b[0m\u001b[0;34m\u001b[0m\u001b[0;34m\u001b[0m\u001b[0m\n\u001b[1;32m      4\u001b[0m \u001b[0mbang_visualizer\u001b[0m\u001b[0;34m.\u001b[0m\u001b[0mshow_clusters\u001b[0m\u001b[0;34m(\u001b[0m\u001b[0mdata\u001b[0m\u001b[0;34m,\u001b[0m \u001b[0mclusters\u001b[0m\u001b[0;34m,\u001b[0m \u001b[0mnoise\u001b[0m\u001b[0;34m)\u001b[0m\u001b[0;34m\u001b[0m\u001b[0;34m\u001b[0m\u001b[0m\n",
            "\u001b[0;31mNameError\u001b[0m: name 'bang_visualizer' is not defined"
          ]
        }
      ]
    },
    {
      "cell_type": "code",
      "source": [
        "# Hiển thị cấu trúc phân cụm\n",
        "bang_visualizer.show_blocks(directory)"
      ],
      "metadata": {
        "id": "aSQcJESPx4yQ"
      },
      "execution_count": null,
      "outputs": []
    },
    {
      "cell_type": "code",
      "source": [
        "# Hiển thị dendrogram của quá trình phân cụm\n",
        "bang_visualizer.show_dendrogram(dendrogram)"
      ],
      "metadata": {
        "id": "vzS8YRdkx60P"
      },
      "execution_count": null,
      "outputs": []
    },
    {
      "cell_type": "code",
      "source": [
        "# Hiển thị kết quả các cụm và noise\n",
        "bang_visualizer.show_clusters(data_array, clusters, noise)"
      ],
      "metadata": {
        "id": "fcedfiuhyD2Y"
      },
      "execution_count": null,
      "outputs": []
    }
  ],
  "metadata": {
    "colab": {
      "provenance": []
    },
    "kernelspec": {
      "display_name": "Python 3",
      "name": "python3"
    },
    "language_info": {
      "name": "python"
    }
  },
  "nbformat": 4,
  "nbformat_minor": 0
}