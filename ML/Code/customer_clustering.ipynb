{
 "cells": [
  {
   "cell_type": "code",
   "execution_count": null,
   "metadata": {},
   "outputs": [],
   "source": [
    "import joblib             as jlb\n",
    "import matplotlib.pyplot  as plt\n",
    "import numpy              as np\n",
    "import pandas             as pd\n",
    "import warnings\n",
    "warnings.filterwarnings('ignore') # tắt những cảnh báo\n"
   ]
  },
  {
   "cell_type": "code",
   "execution_count": null,
   "metadata": {},
   "outputs": [],
   "source": [
    "folder = 'C:\\\\Users\\\\JOinme\\\\Downloads\\\\Clustering'"
   ]
  },
  {
   "cell_type": "code",
   "execution_count": null,
   "metadata": {},
   "outputs": [],
   "source": []
  }
 ],
 "metadata": {
  "language_info": {
   "name": "python"
  }
 },
 "nbformat": 4,
 "nbformat_minor": 2
}
