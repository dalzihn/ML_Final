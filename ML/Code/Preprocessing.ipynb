{
 "cells": [
  {
   "cell_type": "code",
   "execution_count": 88,
   "metadata": {
    "colab": {
     "base_uri": "https://localhost:8080/"
    },
    "executionInfo": {
     "elapsed": 4701,
     "status": "ok",
     "timestamp": 1730426277576,
     "user": {
      "displayName": "ĐỨC NGUYỄN ĐÔN",
      "userId": "12839323617092847726"
     },
     "user_tz": -420
    },
    "id": "FgL8jmS_qAHK",
    "outputId": "e75f5e04-0d0e-445d-db4d-f5b64e3901e6"
   },
   "outputs": [],
   "source": [
    "# ## Môi trường lập trình\n",
    "# from google.colab import drive\n",
    "# drive.mount(\"/content/drive\", force_remount = True)\n",
    "# #olderHoang = '/content/drive/My Drive/Semester 5/Machine Learning/Final Project_ML/Co-Working Space for Coding/Data'\n",
    "# folderDuc = '/content/drive/MyDrive/Colab Notebooks/ML/Final Project_ML/Co-Working Space for Coding/Data'"
   ]
  },
  {
   "cell_type": "code",
   "execution_count": 89,
   "metadata": {
    "colab": {
     "base_uri": "https://localhost:8080/"
    },
    "executionInfo": {
     "elapsed": 3600,
     "status": "ok",
     "timestamp": 1730426281174,
     "user": {
      "displayName": "ĐỨC NGUYỄN ĐÔN",
      "userId": "12839323617092847726"
     },
     "user_tz": -420
    },
    "id": "ufwoKF42wsOG",
    "outputId": "d8a5dcd7-55f8-4fc2-8fcf-61282474ef6c"
   },
   "outputs": [],
   "source": [
    "# !pip install pyclustering"
   ]
  },
  {
   "cell_type": "code",
   "execution_count": 90,
   "metadata": {
    "executionInfo": {
     "elapsed": 19,
     "status": "ok",
     "timestamp": 1730426281174,
     "user": {
      "displayName": "ĐỨC NGUYỄN ĐÔN",
      "userId": "12839323617092847726"
     },
     "user_tz": -420
    },
    "id": "G99QBlKCpzes"
   },
   "outputs": [],
   "source": [
    "import numpy as np\n",
    "import pandas as pd\n",
    "import matplotlib.pyplot as plt\n",
    "from sklearn.preprocessing import MinMaxScaler, StandardScaler\n",
    "from sklearn.decomposition import PCA\n",
    "from pyclustering.cluster.bang import bang, bang_visualizer, bang_animator\n",
    "from sklearn.metrics import silhouette_score\n",
    "from scipy.stats import skew\n",
    "from scipy.stats import boxcox\n",
    "\n",
    "%matplotlib inline"
   ]
  },
  {
   "cell_type": "code",
   "execution_count": 91,
   "metadata": {},
   "outputs": [],
   "source": [
    "folder = \"C:\\\\Users\\\\JOinme\\\\Downloads\\\\ML\\\\Data\"\n"
   ]
  },
  {
   "cell_type": "markdown",
   "metadata": {
    "id": "XCUpHLnppzex"
   },
   "source": [
    "# Đọc dữ liệu"
   ]
  },
  {
   "cell_type": "code",
   "execution_count": 92,
   "metadata": {
    "executionInfo": {
     "elapsed": 18,
     "status": "ok",
     "timestamp": 1730426281174,
     "user": {
      "displayName": "ĐỨC NGUYỄN ĐÔN",
      "userId": "12839323617092847726"
     },
     "user_tz": -420
    },
    "id": "9T8RHLlXpze0"
   },
   "outputs": [],
   "source": [
    "customer = pd.read_csv(folder + \"/DimCustomer.csv\")\n",
    "geography = pd.read_csv(folder + \"/DimGeography.csv\")"
   ]
  },
  {
   "cell_type": "markdown",
   "metadata": {
    "id": "EVrcZnr3pze0"
   },
   "source": [
    "Drop irrelevant columns"
   ]
  },
  {
   "cell_type": "code",
   "execution_count": 93,
   "metadata": {
    "executionInfo": {
     "elapsed": 18,
     "status": "ok",
     "timestamp": 1730426281174,
     "user": {
      "displayName": "ĐỨC NGUYỄN ĐÔN",
      "userId": "12839323617092847726"
     },
     "user_tz": -420
    },
    "id": "1RZYQGTppze1"
   },
   "outputs": [],
   "source": [
    "customer = customer.drop(['Unnamed: 0', 'FirstName', 'LastName', 'BirthDate', 'HouseOwnerFlag', 'NumberCarsOwned'], axis = 1)\n",
    "geography = geography.drop(['CityName', 'StateProvinceName', 'RegionCountryName', 'GeographyType'], axis = 1)"
   ]
  },
  {
   "cell_type": "code",
   "execution_count": 94,
   "metadata": {
    "colab": {
     "base_uri": "https://localhost:8080/",
     "height": 206
    },
    "executionInfo": {
     "elapsed": 19,
     "status": "ok",
     "timestamp": 1730426281175,
     "user": {
      "displayName": "ĐỨC NGUYỄN ĐÔN",
      "userId": "12839323617092847726"
     },
     "user_tz": -420
    },
    "id": "8m7D6s6epze2",
    "outputId": "b39653c7-bfba-4cf6-fb29-df3dcb156521"
   },
   "outputs": [
    {
     "data": {
      "text/html": [
       "<div>\n",
       "<style scoped>\n",
       "    .dataframe tbody tr th:only-of-type {\n",
       "        vertical-align: middle;\n",
       "    }\n",
       "\n",
       "    .dataframe tbody tr th {\n",
       "        vertical-align: top;\n",
       "    }\n",
       "\n",
       "    .dataframe thead th {\n",
       "        text-align: right;\n",
       "    }\n",
       "</style>\n",
       "<table border=\"1\" class=\"dataframe\">\n",
       "  <thead>\n",
       "    <tr style=\"text-align: right;\">\n",
       "      <th></th>\n",
       "      <th>CustomerKey</th>\n",
       "      <th>GeographyKey</th>\n",
       "      <th>MaritalStatus</th>\n",
       "      <th>Gender</th>\n",
       "      <th>YearlyIncome</th>\n",
       "      <th>TotalChildren</th>\n",
       "      <th>NumberChildrenAtHome</th>\n",
       "      <th>Education</th>\n",
       "      <th>Occupation</th>\n",
       "    </tr>\n",
       "  </thead>\n",
       "  <tbody>\n",
       "    <tr>\n",
       "      <th>0</th>\n",
       "      <td>1</td>\n",
       "      <td>680</td>\n",
       "      <td>M</td>\n",
       "      <td>M</td>\n",
       "      <td>90000.0</td>\n",
       "      <td>2.0</td>\n",
       "      <td>0.0</td>\n",
       "      <td>Bachelors</td>\n",
       "      <td>Professional</td>\n",
       "    </tr>\n",
       "    <tr>\n",
       "      <th>1</th>\n",
       "      <td>2</td>\n",
       "      <td>692</td>\n",
       "      <td>S</td>\n",
       "      <td>M</td>\n",
       "      <td>60000.0</td>\n",
       "      <td>3.0</td>\n",
       "      <td>3.0</td>\n",
       "      <td>Bachelors</td>\n",
       "      <td>Professional</td>\n",
       "    </tr>\n",
       "    <tr>\n",
       "      <th>2</th>\n",
       "      <td>3</td>\n",
       "      <td>493</td>\n",
       "      <td>M</td>\n",
       "      <td>M</td>\n",
       "      <td>60000.0</td>\n",
       "      <td>3.0</td>\n",
       "      <td>3.0</td>\n",
       "      <td>Bachelors</td>\n",
       "      <td>Professional</td>\n",
       "    </tr>\n",
       "    <tr>\n",
       "      <th>3</th>\n",
       "      <td>4</td>\n",
       "      <td>519</td>\n",
       "      <td>S</td>\n",
       "      <td>F</td>\n",
       "      <td>70000.0</td>\n",
       "      <td>0.0</td>\n",
       "      <td>0.0</td>\n",
       "      <td>Bachelors</td>\n",
       "      <td>Professional</td>\n",
       "    </tr>\n",
       "    <tr>\n",
       "      <th>4</th>\n",
       "      <td>5</td>\n",
       "      <td>706</td>\n",
       "      <td>S</td>\n",
       "      <td>F</td>\n",
       "      <td>80000.0</td>\n",
       "      <td>5.0</td>\n",
       "      <td>5.0</td>\n",
       "      <td>Bachelors</td>\n",
       "      <td>Professional</td>\n",
       "    </tr>\n",
       "  </tbody>\n",
       "</table>\n",
       "</div>"
      ],
      "text/plain": [
       "   CustomerKey  GeographyKey MaritalStatus Gender  YearlyIncome  \\\n",
       "0            1           680             M      M       90000.0   \n",
       "1            2           692             S      M       60000.0   \n",
       "2            3           493             M      M       60000.0   \n",
       "3            4           519             S      F       70000.0   \n",
       "4            5           706             S      F       80000.0   \n",
       "\n",
       "   TotalChildren  NumberChildrenAtHome  Education    Occupation  \n",
       "0            2.0                   0.0  Bachelors  Professional  \n",
       "1            3.0                   3.0  Bachelors  Professional  \n",
       "2            3.0                   3.0  Bachelors  Professional  \n",
       "3            0.0                   0.0  Bachelors  Professional  \n",
       "4            5.0                   5.0  Bachelors  Professional  "
      ]
     },
     "execution_count": 94,
     "metadata": {},
     "output_type": "execute_result"
    }
   ],
   "source": [
    "customer.head()"
   ]
  },
  {
   "cell_type": "code",
   "execution_count": 95,
   "metadata": {
    "colab": {
     "base_uri": "https://localhost:8080/",
     "height": 206
    },
    "executionInfo": {
     "elapsed": 17,
     "status": "ok",
     "timestamp": 1730426281175,
     "user": {
      "displayName": "ĐỨC NGUYỄN ĐÔN",
      "userId": "12839323617092847726"
     },
     "user_tz": -420
    },
    "id": "w7mMYyJOpze3",
    "outputId": "4487afae-d1e1-4068-e8b4-0f92d2f717a8"
   },
   "outputs": [
    {
     "data": {
      "text/html": [
       "<div>\n",
       "<style scoped>\n",
       "    .dataframe tbody tr th:only-of-type {\n",
       "        vertical-align: middle;\n",
       "    }\n",
       "\n",
       "    .dataframe tbody tr th {\n",
       "        vertical-align: top;\n",
       "    }\n",
       "\n",
       "    .dataframe thead th {\n",
       "        text-align: right;\n",
       "    }\n",
       "</style>\n",
       "<table border=\"1\" class=\"dataframe\">\n",
       "  <thead>\n",
       "    <tr style=\"text-align: right;\">\n",
       "      <th></th>\n",
       "      <th>GeographyKey</th>\n",
       "      <th>ContinentName</th>\n",
       "    </tr>\n",
       "  </thead>\n",
       "  <tbody>\n",
       "    <tr>\n",
       "      <th>0</th>\n",
       "      <td>1</td>\n",
       "      <td>Asia</td>\n",
       "    </tr>\n",
       "    <tr>\n",
       "      <th>1</th>\n",
       "      <td>2</td>\n",
       "      <td>Europe</td>\n",
       "    </tr>\n",
       "    <tr>\n",
       "      <th>2</th>\n",
       "      <td>3</td>\n",
       "      <td>North America</td>\n",
       "    </tr>\n",
       "    <tr>\n",
       "      <th>3</th>\n",
       "      <td>269</td>\n",
       "      <td>Asia</td>\n",
       "    </tr>\n",
       "    <tr>\n",
       "      <th>4</th>\n",
       "      <td>270</td>\n",
       "      <td>Asia</td>\n",
       "    </tr>\n",
       "  </tbody>\n",
       "</table>\n",
       "</div>"
      ],
      "text/plain": [
       "   GeographyKey  ContinentName\n",
       "0             1           Asia\n",
       "1             2         Europe\n",
       "2             3  North America\n",
       "3           269           Asia\n",
       "4           270           Asia"
      ]
     },
     "execution_count": 95,
     "metadata": {},
     "output_type": "execute_result"
    }
   ],
   "source": [
    "geography.head()"
   ]
  },
  {
   "cell_type": "markdown",
   "metadata": {
    "id": "P5GbOxIPpze4"
   },
   "source": [
    "Merge data"
   ]
  },
  {
   "cell_type": "code",
   "execution_count": 96,
   "metadata": {
    "executionInfo": {
     "elapsed": 18,
     "status": "ok",
     "timestamp": 1730426281176,
     "user": {
      "displayName": "ĐỨC NGUYỄN ĐÔN",
      "userId": "12839323617092847726"
     },
     "user_tz": -420
    },
    "id": "TIsCqBoCpze5"
   },
   "outputs": [],
   "source": [
    "customer_geo = customer.merge(geography, on='GeographyKey')\n",
    "customer_geo = customer_geo.drop(['CustomerKey', 'GeographyKey'], axis = 1)"
   ]
  },
  {
   "cell_type": "code",
   "execution_count": 97,
   "metadata": {
    "colab": {
     "base_uri": "https://localhost:8080/"
    },
    "executionInfo": {
     "elapsed": 17,
     "status": "ok",
     "timestamp": 1730426281176,
     "user": {
      "displayName": "ĐỨC NGUYỄN ĐÔN",
      "userId": "12839323617092847726"
     },
     "user_tz": -420
    },
    "id": "b7ILwv9Ypze8",
    "outputId": "930f53b6-d473-40ab-cbb4-d652279f5a85"
   },
   "outputs": [
    {
     "name": "stdout",
     "output_type": "stream",
     "text": [
      "<class 'pandas.core.frame.DataFrame'>\n",
      "RangeIndex: 18869 entries, 0 to 18868\n",
      "Data columns (total 8 columns):\n",
      " #   Column                Non-Null Count  Dtype  \n",
      "---  ------                --------------  -----  \n",
      " 0   MaritalStatus         18869 non-null  object \n",
      " 1   Gender                18869 non-null  object \n",
      " 2   YearlyIncome          18869 non-null  float64\n",
      " 3   TotalChildren         18869 non-null  float64\n",
      " 4   NumberChildrenAtHome  18869 non-null  float64\n",
      " 5   Education             18869 non-null  object \n",
      " 6   Occupation            18869 non-null  object \n",
      " 7   ContinentName         18869 non-null  object \n",
      "dtypes: float64(3), object(5)\n",
      "memory usage: 1.2+ MB\n"
     ]
    }
   ],
   "source": [
    "\n",
    "customer_geo.info()"
   ]
  },
  {
   "cell_type": "markdown",
   "metadata": {
    "id": "XR1zjIb7pze8"
   },
   "source": [
    "# Data Cleaning"
   ]
  },
  {
   "cell_type": "markdown",
   "metadata": {
    "id": "EWtsDIN9pze9"
   },
   "source": [
    "Missing values cleaning"
   ]
  },
  {
   "cell_type": "code",
   "execution_count": 98,
   "metadata": {
    "colab": {
     "base_uri": "https://localhost:8080/",
     "height": 335
    },
    "executionInfo": {
     "elapsed": 15,
     "status": "ok",
     "timestamp": 1730426281176,
     "user": {
      "displayName": "ĐỨC NGUYỄN ĐÔN",
      "userId": "12839323617092847726"
     },
     "user_tz": -420
    },
    "id": "fVGbjkkxpze9",
    "outputId": "d9c7bc53-373e-418f-8a37-97ee7a3bd719"
   },
   "outputs": [
    {
     "data": {
      "text/plain": [
       "MaritalStatus           False\n",
       "Gender                  False\n",
       "YearlyIncome            False\n",
       "TotalChildren           False\n",
       "NumberChildrenAtHome    False\n",
       "Education               False\n",
       "Occupation              False\n",
       "ContinentName           False\n",
       "dtype: bool"
      ]
     },
     "execution_count": 98,
     "metadata": {},
     "output_type": "execute_result"
    }
   ],
   "source": [
    "customer_geo.isnull().any()"
   ]
  },
  {
   "cell_type": "code",
   "execution_count": 99,
   "metadata": {
    "colab": {
     "base_uri": "https://localhost:8080/",
     "height": 335
    },
    "executionInfo": {
     "elapsed": 14,
     "status": "ok",
     "timestamp": 1730426281176,
     "user": {
      "displayName": "ĐỨC NGUYỄN ĐÔN",
      "userId": "12839323617092847726"
     },
     "user_tz": -420
    },
    "id": "VZUAuYmFpze-",
    "outputId": "b4933485-4267-4aaf-ad68-ca6cee9a866b"
   },
   "outputs": [
    {
     "data": {
      "text/plain": [
       "MaritalStatus           False\n",
       "Gender                  False\n",
       "YearlyIncome            False\n",
       "TotalChildren           False\n",
       "NumberChildrenAtHome    False\n",
       "Education               False\n",
       "Occupation              False\n",
       "ContinentName           False\n",
       "dtype: bool"
      ]
     },
     "execution_count": 99,
     "metadata": {},
     "output_type": "execute_result"
    }
   ],
   "source": [
    "customer_geo.isna().any()"
   ]
  },
  {
   "cell_type": "markdown",
   "metadata": {
    "id": "lkrdzQrBpze_"
   },
   "source": [
    "Outlier cleaning"
   ]
  },
  {
   "cell_type": "code",
   "execution_count": 100,
   "metadata": {
    "executionInfo": {
     "elapsed": 14,
     "status": "ok",
     "timestamp": 1730426281176,
     "user": {
      "displayName": "ĐỨC NGUYỄN ĐÔN",
      "userId": "12839323617092847726"
     },
     "user_tz": -420
    },
    "id": "5_lHJbg7pzfA"
   },
   "outputs": [],
   "source": [
    "\n",
    "numeric_cols = customer_geo.select_dtypes(include=np.number).columns\n",
    "#Dropping outliers using z-score\n",
    "def outliers_cleaning(data: pd.DataFrame, numeric_columns: list) -> pd.DataFrame:\n",
    "    for column in numeric_columns:\n",
    "        upper_limit = data[column].mean() + 3*data[column].std()\n",
    "        lower_limit = data[column].mean() - 3*data[column].std()\n",
    "        data = data[(data[column] >= lower_limit) & (data[column] <= upper_limit)]\n",
    "    return data\n",
    "\n",
    "customer_geo = outliers_cleaning(customer_geo, numeric_cols)"
   ]
  },
  {
   "cell_type": "markdown",
   "metadata": {
    "id": "GTvpVN2bpzfB"
   },
   "source": [
    "# Data Transformation"
   ]
  },
  {
   "cell_type": "code",
   "execution_count": 101,
   "metadata": {
    "colab": {
     "base_uri": "https://localhost:8080/",
     "height": 206
    },
    "executionInfo": {
     "elapsed": 13,
     "status": "ok",
     "timestamp": 1730426281176,
     "user": {
      "displayName": "ĐỨC NGUYỄN ĐÔN",
      "userId": "12839323617092847726"
     },
     "user_tz": -420
    },
    "id": "RktPFHVUpzfC",
    "outputId": "5a05f3af-ef65-47e1-e0a7-8a753a367e65"
   },
   "outputs": [
    {
     "data": {
      "text/html": [
       "<div>\n",
       "<style scoped>\n",
       "    .dataframe tbody tr th:only-of-type {\n",
       "        vertical-align: middle;\n",
       "    }\n",
       "\n",
       "    .dataframe tbody tr th {\n",
       "        vertical-align: top;\n",
       "    }\n",
       "\n",
       "    .dataframe thead th {\n",
       "        text-align: right;\n",
       "    }\n",
       "</style>\n",
       "<table border=\"1\" class=\"dataframe\">\n",
       "  <thead>\n",
       "    <tr style=\"text-align: right;\">\n",
       "      <th></th>\n",
       "      <th>MaritalStatus</th>\n",
       "      <th>Gender</th>\n",
       "      <th>YearlyIncome</th>\n",
       "      <th>TotalChildren</th>\n",
       "      <th>NumberChildrenAtHome</th>\n",
       "      <th>Education</th>\n",
       "      <th>Occupation</th>\n",
       "      <th>ContinentName</th>\n",
       "    </tr>\n",
       "  </thead>\n",
       "  <tbody>\n",
       "    <tr>\n",
       "      <th>0</th>\n",
       "      <td>M</td>\n",
       "      <td>M</td>\n",
       "      <td>90000.0</td>\n",
       "      <td>2.0</td>\n",
       "      <td>0.0</td>\n",
       "      <td>Bachelors</td>\n",
       "      <td>Professional</td>\n",
       "      <td>Asia</td>\n",
       "    </tr>\n",
       "    <tr>\n",
       "      <th>1</th>\n",
       "      <td>S</td>\n",
       "      <td>M</td>\n",
       "      <td>60000.0</td>\n",
       "      <td>3.0</td>\n",
       "      <td>3.0</td>\n",
       "      <td>Bachelors</td>\n",
       "      <td>Professional</td>\n",
       "      <td>Asia</td>\n",
       "    </tr>\n",
       "    <tr>\n",
       "      <th>2</th>\n",
       "      <td>M</td>\n",
       "      <td>M</td>\n",
       "      <td>60000.0</td>\n",
       "      <td>3.0</td>\n",
       "      <td>3.0</td>\n",
       "      <td>Bachelors</td>\n",
       "      <td>Professional</td>\n",
       "      <td>Asia</td>\n",
       "    </tr>\n",
       "    <tr>\n",
       "      <th>3</th>\n",
       "      <td>S</td>\n",
       "      <td>F</td>\n",
       "      <td>70000.0</td>\n",
       "      <td>0.0</td>\n",
       "      <td>0.0</td>\n",
       "      <td>Bachelors</td>\n",
       "      <td>Professional</td>\n",
       "      <td>Asia</td>\n",
       "    </tr>\n",
       "    <tr>\n",
       "      <th>4</th>\n",
       "      <td>S</td>\n",
       "      <td>F</td>\n",
       "      <td>80000.0</td>\n",
       "      <td>5.0</td>\n",
       "      <td>5.0</td>\n",
       "      <td>Bachelors</td>\n",
       "      <td>Professional</td>\n",
       "      <td>Asia</td>\n",
       "    </tr>\n",
       "  </tbody>\n",
       "</table>\n",
       "</div>"
      ],
      "text/plain": [
       "  MaritalStatus Gender  YearlyIncome  TotalChildren  NumberChildrenAtHome  \\\n",
       "0             M      M       90000.0            2.0                   0.0   \n",
       "1             S      M       60000.0            3.0                   3.0   \n",
       "2             M      M       60000.0            3.0                   3.0   \n",
       "3             S      F       70000.0            0.0                   0.0   \n",
       "4             S      F       80000.0            5.0                   5.0   \n",
       "\n",
       "   Education    Occupation ContinentName  \n",
       "0  Bachelors  Professional          Asia  \n",
       "1  Bachelors  Professional          Asia  \n",
       "2  Bachelors  Professional          Asia  \n",
       "3  Bachelors  Professional          Asia  \n",
       "4  Bachelors  Professional          Asia  "
      ]
     },
     "execution_count": 101,
     "metadata": {},
     "output_type": "execute_result"
    }
   ],
   "source": [
    "\n",
    "customer_geo.head()"
   ]
  },
  {
   "cell_type": "markdown",
   "metadata": {
    "id": "c7iswnCRpzfC"
   },
   "source": [
    "Encode \"MaritalStatus\" column"
   ]
  },
  {
   "cell_type": "code",
   "execution_count": 102,
   "metadata": {
    "executionInfo": {
     "elapsed": 394,
     "status": "ok",
     "timestamp": 1730426281557,
     "user": {
      "displayName": "ĐỨC NGUYỄN ĐÔN",
      "userId": "12839323617092847726"
     },
     "user_tz": -420
    },
    "id": "amWcNlaEpzfD"
   },
   "outputs": [],
   "source": [
    "mapping_maritalstatus = {'M': 1, 'S': 0} ##1: Married, 0: Single\n",
    "customer_geo['MaritalStatus'] = [mapping_maritalstatus[marital] for marital in customer_geo['MaritalStatus']]"
   ]
  },
  {
   "cell_type": "markdown",
   "metadata": {
    "id": "mNcnstw_pzfD"
   },
   "source": [
    "Encode \"Gender\" column"
   ]
  },
  {
   "cell_type": "code",
   "execution_count": 103,
   "metadata": {
    "executionInfo": {
     "elapsed": 9,
     "status": "ok",
     "timestamp": 1730426281557,
     "user": {
      "displayName": "ĐỨC NGUYỄN ĐÔN",
      "userId": "12839323617092847726"
     },
     "user_tz": -420
    },
    "id": "QV5JTKwBpzfD"
   },
   "outputs": [],
   "source": [
    "mapping_gender = {'F': 0, 'M': 1} ##0: Female, 1: Male\n",
    "customer_geo['Gender'] = [mapping_gender[sex] for sex in customer_geo['Gender']]"
   ]
  },
  {
   "cell_type": "markdown",
   "metadata": {
    "id": "hTvmHI0GpzfE"
   },
   "source": [
    "Encode \"Education\" column"
   ]
  },
  {
   "cell_type": "code",
   "execution_count": 104,
   "metadata": {
    "executionInfo": {
     "elapsed": 8,
     "status": "ok",
     "timestamp": 1730426281557,
     "user": {
      "displayName": "ĐỨC NGUYỄN ĐÔN",
      "userId": "12839323617092847726"
     },
     "user_tz": -420
    },
    "id": "r33RSc7fpzfE"
   },
   "outputs": [],
   "source": [
    "mapping_edu = {'Partial High School': 1, 'High School': 2, 'Partial College': 3, 'Bachelors': 4, 'Graduate Degree': 5}\n",
    "customer_geo['Education'] = [mapping_edu[edu] for edu in customer_geo['Education']]"
   ]
  },
  {
   "cell_type": "markdown",
   "metadata": {
    "id": "3XaCDJn1pzfF"
   },
   "source": [
    "Encode \"Operation\" column"
   ]
  },
  {
   "cell_type": "code",
   "execution_count": 105,
   "metadata": {
    "executionInfo": {
     "elapsed": 8,
     "status": "ok",
     "timestamp": 1730426281557,
     "user": {
      "displayName": "ĐỨC NGUYỄN ĐÔN",
      "userId": "12839323617092847726"
     },
     "user_tz": -420
    },
    "id": "JyX0DCrZpzfF"
   },
   "outputs": [],
   "source": [
    "onehot_occupation = pd.get_dummies(customer_geo['Occupation'], dtype=np.int64)\n",
    "customer_geo = pd.concat([customer_geo, onehot_occupation], axis = 1)\n",
    "#Drop 'Occupation\" column\n",
    "customer_geo = customer_geo.drop('Occupation', axis = 1)"
   ]
  },
  {
   "cell_type": "markdown",
   "metadata": {
    "id": "benWnkaGpzfG"
   },
   "source": [
    "Encode \"GeographyType\" column"
   ]
  },
  {
   "cell_type": "code",
   "execution_count": 106,
   "metadata": {
    "executionInfo": {
     "elapsed": 8,
     "status": "ok",
     "timestamp": 1730426281557,
     "user": {
      "displayName": "ĐỨC NGUYỄN ĐÔN",
      "userId": "12839323617092847726"
     },
     "user_tz": -420
    },
    "id": "qnx57ZVvpzfG"
   },
   "outputs": [],
   "source": [
    "# customer_geo['GeographyType'].unique() ##Has only 1 value, not helping for segmentation, this column will be dropped\n"
   ]
  },
  {
   "cell_type": "markdown",
   "metadata": {
    "id": "g4GJT2BDpzfH"
   },
   "source": [
    "Encode \"ContinentName\" column"
   ]
  },
  {
   "cell_type": "code",
   "execution_count": 107,
   "metadata": {
    "executionInfo": {
     "elapsed": 8,
     "status": "ok",
     "timestamp": 1730426281557,
     "user": {
      "displayName": "ĐỨC NGUYỄN ĐÔN",
      "userId": "12839323617092847726"
     },
     "user_tz": -420
    },
    "id": "biZzrO-WpzfH"
   },
   "outputs": [],
   "source": [
    "onehot_continent = pd.get_dummies(customer_geo['ContinentName'], dtype=np.int64)\n",
    "customer_geo = pd.concat([customer_geo, onehot_continent], axis = 1)\n",
    "#Drop 'ContinentName\" column\n",
    "customer_geo = customer_geo.drop('ContinentName', axis = 1)"
   ]
  },
  {
   "cell_type": "markdown",
   "metadata": {
    "id": "Ozy3ZWnPpzfI"
   },
   "source": [
    "Transform \"YearlyIncome\""
   ]
  },
  {
   "cell_type": "code",
   "execution_count": 108,
   "metadata": {},
   "outputs": [
    {
     "data": {
      "text/plain": [
       "np.float64(0.8220548594258209)"
      ]
     },
     "execution_count": 108,
     "metadata": {},
     "output_type": "execute_result"
    }
   ],
   "source": [
    "skew(customer_geo['YearlyIncome'])"
   ]
  },
  {
   "cell_type": "code",
   "execution_count": 109,
   "metadata": {},
   "outputs": [],
   "source": [
    "def transform_boxcox(data: pd.DataFrame, col: str) -> pd.Series:\n",
    "    # Apply Box-Cox transformation\n",
    "    transformed_data, _ = boxcox(data[col])\n",
    "    \n",
    "    # Apply MinMax scaling to bring values between 0 and 1\n",
    "    scaler = MinMaxScaler()\n",
    "    result = scaler.fit_transform(transformed_data.reshape(-1, 1)).flatten()\n",
    "    \n",
    "    return result.round(2)\n",
    "  \n",
    "customer_geo['YearlyIncome'] = transform_boxcox(customer_geo, 'YearlyIncome')"
   ]
  },
  {
   "cell_type": "code",
   "execution_count": 110,
   "metadata": {
    "colab": {
     "base_uri": "https://localhost:8080/",
     "height": 244
    },
    "executionInfo": {
     "elapsed": 8,
     "status": "ok",
     "timestamp": 1730426281557,
     "user": {
      "displayName": "ĐỨC NGUYỄN ĐÔN",
      "userId": "12839323617092847726"
     },
     "user_tz": -420
    },
    "id": "zHtyLA_8pzfK",
    "outputId": "57340e95-1cb9-4cdb-cc6d-64f9e80f5509"
   },
   "outputs": [
    {
     "data": {
      "text/html": [
       "<div>\n",
       "<style scoped>\n",
       "    .dataframe tbody tr th:only-of-type {\n",
       "        vertical-align: middle;\n",
       "    }\n",
       "\n",
       "    .dataframe tbody tr th {\n",
       "        vertical-align: top;\n",
       "    }\n",
       "\n",
       "    .dataframe thead th {\n",
       "        text-align: right;\n",
       "    }\n",
       "</style>\n",
       "<table border=\"1\" class=\"dataframe\">\n",
       "  <thead>\n",
       "    <tr style=\"text-align: right;\">\n",
       "      <th></th>\n",
       "      <th>MaritalStatus</th>\n",
       "      <th>Gender</th>\n",
       "      <th>YearlyIncome</th>\n",
       "      <th>TotalChildren</th>\n",
       "      <th>NumberChildrenAtHome</th>\n",
       "      <th>Education</th>\n",
       "      <th>Clerical</th>\n",
       "      <th>Management</th>\n",
       "      <th>Manual</th>\n",
       "      <th>Professional</th>\n",
       "      <th>Skilled Manual</th>\n",
       "      <th>Asia</th>\n",
       "      <th>Europe</th>\n",
       "      <th>North America</th>\n",
       "    </tr>\n",
       "  </thead>\n",
       "  <tbody>\n",
       "    <tr>\n",
       "      <th>0</th>\n",
       "      <td>1</td>\n",
       "      <td>1</td>\n",
       "      <td>0.67</td>\n",
       "      <td>2.0</td>\n",
       "      <td>0.0</td>\n",
       "      <td>4</td>\n",
       "      <td>0</td>\n",
       "      <td>0</td>\n",
       "      <td>0</td>\n",
       "      <td>1</td>\n",
       "      <td>0</td>\n",
       "      <td>1</td>\n",
       "      <td>0</td>\n",
       "      <td>0</td>\n",
       "    </tr>\n",
       "    <tr>\n",
       "      <th>1</th>\n",
       "      <td>0</td>\n",
       "      <td>1</td>\n",
       "      <td>0.49</td>\n",
       "      <td>3.0</td>\n",
       "      <td>3.0</td>\n",
       "      <td>4</td>\n",
       "      <td>0</td>\n",
       "      <td>0</td>\n",
       "      <td>0</td>\n",
       "      <td>1</td>\n",
       "      <td>0</td>\n",
       "      <td>1</td>\n",
       "      <td>0</td>\n",
       "      <td>0</td>\n",
       "    </tr>\n",
       "    <tr>\n",
       "      <th>2</th>\n",
       "      <td>1</td>\n",
       "      <td>1</td>\n",
       "      <td>0.49</td>\n",
       "      <td>3.0</td>\n",
       "      <td>3.0</td>\n",
       "      <td>4</td>\n",
       "      <td>0</td>\n",
       "      <td>0</td>\n",
       "      <td>0</td>\n",
       "      <td>1</td>\n",
       "      <td>0</td>\n",
       "      <td>1</td>\n",
       "      <td>0</td>\n",
       "      <td>0</td>\n",
       "    </tr>\n",
       "    <tr>\n",
       "      <th>3</th>\n",
       "      <td>0</td>\n",
       "      <td>0</td>\n",
       "      <td>0.56</td>\n",
       "      <td>0.0</td>\n",
       "      <td>0.0</td>\n",
       "      <td>4</td>\n",
       "      <td>0</td>\n",
       "      <td>0</td>\n",
       "      <td>0</td>\n",
       "      <td>1</td>\n",
       "      <td>0</td>\n",
       "      <td>1</td>\n",
       "      <td>0</td>\n",
       "      <td>0</td>\n",
       "    </tr>\n",
       "    <tr>\n",
       "      <th>4</th>\n",
       "      <td>0</td>\n",
       "      <td>0</td>\n",
       "      <td>0.61</td>\n",
       "      <td>5.0</td>\n",
       "      <td>5.0</td>\n",
       "      <td>4</td>\n",
       "      <td>0</td>\n",
       "      <td>0</td>\n",
       "      <td>0</td>\n",
       "      <td>1</td>\n",
       "      <td>0</td>\n",
       "      <td>1</td>\n",
       "      <td>0</td>\n",
       "      <td>0</td>\n",
       "    </tr>\n",
       "  </tbody>\n",
       "</table>\n",
       "</div>"
      ],
      "text/plain": [
       "   MaritalStatus  Gender  YearlyIncome  TotalChildren  NumberChildrenAtHome  \\\n",
       "0              1       1          0.67            2.0                   0.0   \n",
       "1              0       1          0.49            3.0                   3.0   \n",
       "2              1       1          0.49            3.0                   3.0   \n",
       "3              0       0          0.56            0.0                   0.0   \n",
       "4              0       0          0.61            5.0                   5.0   \n",
       "\n",
       "   Education  Clerical  Management  Manual  Professional  Skilled Manual  \\\n",
       "0          4         0           0       0             1               0   \n",
       "1          4         0           0       0             1               0   \n",
       "2          4         0           0       0             1               0   \n",
       "3          4         0           0       0             1               0   \n",
       "4          4         0           0       0             1               0   \n",
       "\n",
       "   Asia  Europe  North America  \n",
       "0     1       0              0  \n",
       "1     1       0              0  \n",
       "2     1       0              0  \n",
       "3     1       0              0  \n",
       "4     1       0              0  "
      ]
     },
     "execution_count": 110,
     "metadata": {},
     "output_type": "execute_result"
    }
   ],
   "source": [
    "customer_geo.head()"
   ]
  },
  {
   "cell_type": "code",
   "execution_count": 111,
   "metadata": {},
   "outputs": [
    {
     "data": {
      "text/plain": [
       "np.float64(-0.037320917201577264)"
      ]
     },
     "execution_count": 111,
     "metadata": {},
     "output_type": "execute_result"
    }
   ],
   "source": [
    "skew(customer_geo['YearlyIncome'])"
   ]
  },
  {
   "cell_type": "markdown",
   "metadata": {
    "id": "OqRsitiYpzfL"
   },
   "source": [
    "# Data Reduction"
   ]
  },
  {
   "cell_type": "markdown",
   "metadata": {
    "id": "0_OS4VHSpzfM"
   },
   "source": [
    "Demensionality reduction"
   ]
  },
  {
   "cell_type": "code",
   "execution_count": 112,
   "metadata": {
    "executionInfo": {
     "elapsed": 5,
     "status": "ok",
     "timestamp": 1730426281557,
     "user": {
      "displayName": "ĐỨC NGUYỄN ĐÔN",
      "userId": "12839323617092847726"
     },
     "user_tz": -420
    },
    "id": "Pl4Ccsd5pzfM"
   },
   "outputs": [],
   "source": [
    "pca = PCA(n_components=2)\n",
    "customer_geo_pca = pca.fit_transform(customer_geo)"
   ]
  },
  {
   "cell_type": "code",
   "execution_count": 113,
   "metadata": {
    "colab": {
     "base_uri": "https://localhost:8080/",
     "height": 448
    },
    "executionInfo": {
     "elapsed": 2662,
     "status": "ok",
     "timestamp": 1730426284214,
     "user": {
      "displayName": "ĐỨC NGUYỄN ĐÔN",
      "userId": "12839323617092847726"
     },
     "user_tz": -420
    },
    "id": "P2wdhOmHpzfN",
    "outputId": "b50ca348-53d7-4d6f-fc8f-514a55d9f239"
   },
   "outputs": [
    {
     "data": {
      "text/plain": [
       "<matplotlib.collections.PathCollection at 0x14eb684b460>"
      ]
     },
     "execution_count": 113,
     "metadata": {},
     "output_type": "execute_result"
    },
    {
     "data": {
      "image/png": "[encoded data removed]",
      "text/plain": [
       "<Figure size 640x480 with 1 Axes>"
      ]
     },
     "metadata": {},
     "output_type": "display_data"
    }
   ],
   "source": [
    "colors = np.random.rand(customer_geo_pca.shape[0])\n",
    "plt.scatter(customer_geo_pca[:,0], customer_geo_pca[:,1], c = colors)"
   ]
  }
 ],
 "metadata": {
  "colab": {
   "collapsed_sections": [
    "k9nabWjWrUN9"
   ],
   "provenance": []
  },
  "kernelspec": {
   "display_name": "base",
   "language": "python",
   "name": "python3"
  },
  "language_info": {
   "codemirror_mode": {
    "name": "ipython",
    "version": 3
   },
   "file_extension": ".py",
   "mimetype": "text/x-python",
   "name": "python",
   "nbconvert_exporter": "python",
   "pygments_lexer": "ipython3",
   "version": "3.10.6"
  }
 },
 "nbformat": 4,
 "nbformat_minor": 0
}
