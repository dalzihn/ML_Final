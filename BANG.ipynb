{
 "cells": [
  {
   "cell_type": "code",
   "execution_count": 1,
   "metadata": {},
   "outputs": [
    {
     "name": "stdout",
     "output_type": "stream",
     "text": [
      "Collecting pyclusteringNote: you may need to restart the kernel to use updated packages.\n",
      "\n",
      "  Downloading pyclustering-0.10.1.2.tar.gz (2.6 MB)\n",
      "     ---------------------------------------- 0.0/2.6 MB ? eta -:--:--\n",
      "     ---------------------------------------- 0.0/2.6 MB ? eta -:--:--\n",
      "     ---------------------------------------- 0.0/2.6 MB ? eta -:--:--\n",
      "     ---------------------------------------- 0.0/2.6 MB 330.3 kB/s eta 0:00:08\n",
      "      --------------------------------------- 0.1/2.6 MB 409.6 kB/s eta 0:00:07\n",
      "     -- ------------------------------------- 0.2/2.6 MB 898.2 kB/s eta 0:00:03\n",
      "     ---- ----------------------------------- 0.3/2.6 MB 1.3 MB/s eta 0:00:02\n",
      "     ------- -------------------------------- 0.5/2.6 MB 1.7 MB/s eta 0:00:02\n",
      "     ------------- -------------------------- 0.9/2.6 MB 2.9 MB/s eta 0:00:01\n",
      "     ---------------- ----------------------- 1.0/2.6 MB 3.3 MB/s eta 0:00:01\n",
      "     ---------------- ----------------------- 1.0/2.6 MB 3.3 MB/s eta 0:00:01\n",
      "     ---------------- ----------------------- 1.0/2.6 MB 3.3 MB/s eta 0:00:01\n",
      "     ------------------------------ --------- 2.0/2.6 MB 4.1 MB/s eta 0:00:01\n",
      "     ---------------------------------------  2.6/2.6 MB 5.0 MB/s eta 0:00:01\n",
      "     ---------------------------------------  2.6/2.6 MB 5.0 MB/s eta 0:00:01\n",
      "     ---------------------------------------  2.6/2.6 MB 5.0 MB/s eta 0:00:01\n",
      "     ---------------------------------------- 2.6/2.6 MB 3.8 MB/s eta 0:00:00\n",
      "  Installing build dependencies: started\n",
      "  Installing build dependencies: finished with status 'done'\n",
      "  Getting requirements to build wheel: started\n",
      "  Getting requirements to build wheel: finished with status 'done'\n",
      "  Preparing metadata (pyproject.toml): started\n",
      "  Preparing metadata (pyproject.toml): finished with status 'done'\n",
      "Requirement already satisfied: scipy>=1.1.0 in c:\\users\\hoang\\appdata\\local\\programs\\python\\python312\\lib\\site-packages (from pyclustering) (1.12.0)\n",
      "Requirement already satisfied: matplotlib>=3.0.0 in c:\\users\\hoang\\appdata\\local\\programs\\python\\python312\\lib\\site-packages (from pyclustering) (3.8.3)\n",
      "Requirement already satisfied: numpy>=1.15.2 in c:\\users\\hoang\\appdata\\local\\programs\\python\\python312\\lib\\site-packages (from pyclustering) (1.26.4)\n",
      "Requirement already satisfied: Pillow>=5.2.0 in c:\\users\\hoang\\appdata\\local\\programs\\python\\python312\\lib\\site-packages (from pyclustering) (10.2.0)\n",
      "Requirement already satisfied: contourpy>=1.0.1 in c:\\users\\hoang\\appdata\\local\\programs\\python\\python312\\lib\\site-packages (from matplotlib>=3.0.0->pyclustering) (1.2.0)\n",
      "Requirement already satisfied: cycler>=0.10 in c:\\users\\hoang\\appdata\\local\\programs\\python\\python312\\lib\\site-packages (from matplotlib>=3.0.0->pyclustering) (0.12.1)\n",
      "Requirement already satisfied: fonttools>=4.22.0 in c:\\users\\hoang\\appdata\\local\\programs\\python\\python312\\lib\\site-packages (from matplotlib>=3.0.0->pyclustering) (4.50.0)\n",
      "Requirement already satisfied: kiwisolver>=1.3.1 in c:\\users\\hoang\\appdata\\local\\programs\\python\\python312\\lib\\site-packages (from matplotlib>=3.0.0->pyclustering) (1.4.5)\n",
      "Requirement already satisfied: packaging>=20.0 in c:\\users\\hoang\\appdata\\roaming\\python\\python312\\site-packages (from matplotlib>=3.0.0->pyclustering) (24.0)\n",
      "Requirement already satisfied: pyparsing>=2.3.1 in c:\\users\\hoang\\appdata\\local\\programs\\python\\python312\\lib\\site-packages (from matplotlib>=3.0.0->pyclustering) (3.1.2)\n",
      "Requirement already satisfied: python-dateutil>=2.7 in c:\\users\\hoang\\appdata\\roaming\\python\\python312\\site-packages (from matplotlib>=3.0.0->pyclustering) (2.9.0.post0)\n",
      "Requirement already satisfied: six>=1.5 in c:\\users\\hoang\\appdata\\roaming\\python\\python312\\site-packages (from python-dateutil>=2.7->matplotlib>=3.0.0->pyclustering) (1.16.0)\n",
      "Building wheels for collected packages: pyclustering\n",
      "  Building wheel for pyclustering (pyproject.toml): started\n",
      "  Building wheel for pyclustering (pyproject.toml): finished with status 'done'\n",
      "  Created wheel for pyclustering: filename=pyclustering-0.10.1.2-py3-none-any.whl size=2395133 sha256=2b7621f9ab5e56b5955905d2ee1f8ae3cb7c6b00dd6344f210042b9c6f8bd60f\n",
      "  Stored in directory: c:\\users\\hoang\\appdata\\local\\pip\\cache\\wheels\\68\\29\\b4\\131bd7deec3663cc311ab9aa64d6517c3e3ec24bcadfc32f74\n",
      "Successfully built pyclustering\n",
      "Installing collected packages: pyclustering\n",
      "Successfully installed pyclustering-0.10.1.2\n"
     ]
    },
    {
     "name": "stderr",
     "output_type": "stream",
     "text": [
      "\n",
      "[notice] A new release of pip is available: 24.0 -> 24.2\n",
      "[notice] To update, run: python.exe -m pip install --upgrade pip\n"
     ]
    }
   ],
   "source": [
    "pip install pyclustering"
   ]
  },
  {
   "cell_type": "code",
   "execution_count": 2,
   "metadata": {},
   "outputs": [],
   "source": [
    "import numpy as np \n",
    "import pandas as pd \n"
   ]
  },
  {
   "cell_type": "code",
   "execution_count": 3,
   "metadata": {},
   "outputs": [],
   "source": [
    "# import BANG cluster\n",
    "from pyclustering.cluster.bang import *\n"
   ]
  },
  {
   "cell_type": "code",
   "execution_count": null,
   "metadata": {},
   "outputs": [],
   "source": []
  }
 ],
 "metadata": {
  "kernelspec": {
   "display_name": "Python 3",
   "language": "python",
   "name": "python3"
  },
  "language_info": {
   "codemirror_mode": {
    "name": "ipython",
    "version": 3
   },
   "file_extension": ".py",
   "mimetype": "text/x-python",
   "name": "python",
   "nbconvert_exporter": "python",
   "pygments_lexer": "ipython3",
   "version": "3.12.2"
  }
 },
 "nbformat": 4,
 "nbformat_minor": 2
}
