{
 "cells": [
  {
   "cell_type": "code",
   "execution_count": 1,
   "metadata": {},
   "outputs": [],
   "source": [
    "import numpy as np \n",
    "import pandas as pd \n",
    "import matplotlib.pyplot as plt\n",
    "\n"
   ]
  },
  {
   "cell_type": "code",
   "execution_count": 2,
   "metadata": {},
   "outputs": [],
   "source": [
    "# import BANG cluster\n",
    "from pyclustering.cluster.bang import bang\n",
    "from pyclustering.cluster.bang import bang_directory\n",
    "from pyclustering.cluster.bang import bang_visualizer\n",
    "from pyclustering.cluster.bang import bang_animator\n",
    "from pyclustering.cluster.bang import cluster_visualizer\n",
    "from pyclustering.utils import read_sample\n",
    "from pyclustering.samples.definitions import FAMOUS_SAMPLES\n",
    "from pyclustering.cluster import cluster_visualizer_multidim\n"
   ]
  },
  {
   "cell_type": "code",
   "execution_count": null,
   "metadata": {},
   "outputs": [],
   "source": [
    "# Đọc dữ liệu từ file csv\n",
    "file_path = 'FactSales.csv'\n",
    "data= pd.read_csv(file_path)\n",
    "print(data.head())"
   ]
  },
  {
   "cell_type": "code",
   "execution_count": null,
   "metadata": {},
   "outputs": [],
   "source": [
    "#loại bỏ các thuộc tính định tính\n",
    "data1 = data.drop(columns=['SalesKey','DateKey','StoreKey','CurrencyKey'])\n",
    "print(data1.head())"
   ]
  },
  {
   "cell_type": "code",
   "execution_count": null,
   "metadata": {},
   "outputs": [],
   "source": [
    "# Kiểm tra coi có dữ liệu nào bị missing không ?\n",
    "missdata = data1.isnull().sum()\n",
    "miss= missdata/len(data1)\n",
    "miss"
   ]
  },
  {
   "cell_type": "code",
   "execution_count": 6,
   "metadata": {},
   "outputs": [],
   "source": [
    "# Xử lý dữ liệu outlier (phương pháp IQR)\n",
    "\n",
    "def remove_outliers_iqr(data):\n",
    "    for column in data.select_dtypes(include=[np.number]).columns:\n",
    "        Q1 = data[column].quantile(0.25)\n",
    "        Q3 = data[column].quantile(0.75)\n",
    "        IQR = Q3 - Q1\n",
    "        lower_bound = Q1 - 1.5 * IQR\n",
    "        upper_bound = Q3 + 1.5 * IQR\n",
    "        data = data[(data[column] >= lower_bound) & (data[column] <= upper_bound)]\n",
    "    return data\n",
    "\n",
    "data2 = remove_outliers_iqr(data1)"
   ]
  },
  {
   "cell_type": "code",
   "execution_count": 7,
   "metadata": {},
   "outputs": [],
   "source": [
    "arr = data2.to_numpy()"
   ]
  },
  {
   "cell_type": "code",
   "execution_count": 13,
   "metadata": {},
   "outputs": [],
   "source": [
    "\n",
    "from sklearn.decomposition import PCA\n",
    "\n",
    "# Create a PCA object with 3 components\n",
    "pca = PCA(n_components=3)\n",
    "\n",
    "# Fit the PCA model to our dataset\n",
    "pca.fit(arr)\n",
    "\n",
    "# Transform our dataset into the new lower-dimensional space\n",
    "arr_pca = pca.transform(arr)"
   ]
  },
  {
   "cell_type": "code",
   "execution_count": 9,
   "metadata": {},
   "outputs": [],
   "source": [
    "from pyclustering.cluster.bang import bang\n",
    "levels = 3\n",
    "\n",
    "instance = bang(arr, levels)\n",
    "instance.process()\n",
    "\n",
    "clusters = instance.get_clusters();  # allocated clusters\n",
    "noise = instance.get_noise();        # cluster noise\n",
    "directory = instance.get_directory(); # BANG directory\n",
    "dendrogram = instance.get_dendrogram() # BANG dendrogram"
   ]
  },
  {
   "cell_type": "code",
   "execution_count": null,
   "metadata": {},
   "outputs": [],
   "source": [
    "\n",
    "# visualize clustering results\n",
    "bang_visualizer.show_clusters(arr_pca, clusters, noise)\n",
    "bang_visualizer.show_dendrogram(dendrogram)\n",
    "bang_visualizer.show_blocks(directory)\n",
    "# visualizer = cluster_visualizer_multidim()\n",
    "# visualizer.append_clusters(clusters, arr)\n",
    "# visualizer.show(max_row_size=10)\n"
   ]
  }
 ],
 "metadata": {
  "kernelspec": {
   "display_name": "Python 3",
   "language": "python",
   "name": "python3"
  },
  "language_info": {
   "codemirror_mode": {
    "name": "ipython",
    "version": 3
   },
   "file_extension": ".py",
   "mimetype": "text/x-python",
   "name": "python",
   "nbconvert_exporter": "python",
   "pygments_lexer": "ipython3",
   "version": "3.12.2"
  }
 },
 "nbformat": 4,
 "nbformat_minor": 2
}
